{
 "cells": [
  {
   "cell_type": "code",
   "execution_count": 11,
   "metadata": {},
   "outputs": [],
   "source": [
    "from skrub.datasets import fetch_road_safety"
   ]
  },
  {
   "cell_type": "code",
   "execution_count": null,
   "metadata": {},
   "outputs": [],
   "source": [
    "road_safety_dataset = fetch_road_safety()"
   ]
  },
  {
   "cell_type": "code",
   "execution_count": 34,
   "metadata": {},
   "outputs": [],
   "source": [
    "import pandas as pd"
   ]
  },
  {
   "cell_type": "code",
   "execution_count": 35,
   "metadata": {},
   "outputs": [
    {
     "data": {
      "text/plain": [
       "Vehicle_Type\n",
       "9.0     271120\n",
       "1.0      20281\n",
       "19.0     19612\n",
       "3.0       9966\n",
       "5.0       8268\n",
       "11.0      7758\n",
       "8.0       7474\n",
       "21.0      6785\n",
       "4.0       2446\n",
       "2.0       2392\n",
       "20.0      2318\n",
       "90.0      1740\n",
       "10.0       906\n",
       "98.0       790\n",
       "17.0       650\n",
       "97.0       301\n",
       "22.0       226\n",
       "16.0       119\n",
       "18.0        20\n",
       "23.0         9\n",
       "Name: count, dtype: int64"
      ]
     },
     "execution_count": 35,
     "metadata": {},
     "output_type": "execute_result"
    }
   ],
   "source": [
    "road_safety_dataset.X.Vehicle_Type.value_counts()"
   ]
  },
  {
   "cell_type": "code",
   "execution_count": 15,
   "metadata": {},
   "outputs": [
    {
     "data": {
      "text/plain": [
       "<Axes: xlabel='Vehicle_Type'>"
      ]
     },
     "execution_count": 15,
     "metadata": {},
     "output_type": "execute_result"
    },
    {
     "data": {
      "image/png": "[encoded data removed]",
      "text/plain": [
       "<Figure size 640x480 with 1 Axes>"
      ]
     },
     "metadata": {},
     "output_type": "display_data"
    }
   ],
   "source": [
    "employee_salaries.X.Vehicle_Type.value_counts().sort_values().plot(kind=\"bar\")\n"
   ]
  },
  {
   "cell_type": "markdown",
   "metadata": {},
   "source": [
    "Let's say we want to group together the values basing on their frequencies so in the end we will end with 6 values instead of 20. That will reduce the number of features when we want to perform other operations - like one-hot encoding and clustering. "
   ]
  },
  {
   "cell_type": "code",
   "execution_count": 36,
   "metadata": {},
   "outputs": [
    {
     "data": {
      "text/plain": [
       "Vehicle_Type\n",
       "23.0         9\n",
       "18.0        20\n",
       "16.0       119\n",
       "22.0       226\n",
       "97.0       301\n",
       "17.0       650\n",
       "98.0       790\n",
       "10.0       906\n",
       "90.0      1740\n",
       "20.0      2318\n",
       "2.0       2392\n",
       "4.0       2446\n",
       "21.0      6785\n",
       "8.0       7474\n",
       "11.0      7758\n",
       "5.0       8268\n",
       "3.0       9966\n",
       "19.0     19612\n",
       "1.0      20281\n",
       "9.0     271120\n",
       "Name: count, dtype: int64"
      ]
     },
     "execution_count": 36,
     "metadata": {},
     "output_type": "execute_result"
    }
   ],
   "source": [
    "road_safety_dataset.X.Vehicle_Type.value_counts().sort_values()"
   ]
  },
  {
   "cell_type": "markdown",
   "metadata": {},
   "source": [
    "Let's say we want to prepare ranges for the bins basing on their counts. We see that there are vehicle types that could be grouped into similiar categories based on the frequencies. Our bins would look like this:\n",
    "[9, 650, 1740, 6785, 19612, 271120]\n",
    "<!-- [9,\n",
    " 20,\n",
    " 119,\n",
    " 226,\n",
    " 301,\n",
    "\n",
    " 650,\n",
    " 790,\n",
    " 906,\n",
    "\n",
    " 1740,\n",
    " 2318,\n",
    " 2392,\n",
    " 2446,\n",
    "\n",
    " 6785,\n",
    " 7474,\n",
    " 7758,\n",
    " 8268,\n",
    " 9966,\n",
    "\n",
    " 19612,\n",
    " 20281,\n",
    "\n",
    " 271120] -->\n"
   ]
  },
  {
   "cell_type": "code",
   "execution_count": 37,
   "metadata": {},
   "outputs": [],
   "source": [
    "from _frequency_encoder import FrequencyEncoder"
   ]
  },
  {
   "cell_type": "code",
   "execution_count": 38,
   "metadata": {},
   "outputs": [],
   "source": [
    "import numpy as np"
   ]
  },
  {
   "cell_type": "code",
   "execution_count": 29,
   "metadata": {},
   "outputs": [],
   "source": [
    "# you need to put np.inf at the end of the list. "
   ]
  },
  {
   "cell_type": "code",
   "execution_count": 39,
   "metadata": {},
   "outputs": [],
   "source": [
    "fe = FrequencyEncoder(column = \"Vehicle_Type\", bins = [9, 650, 1740, 6785, 19612, 271120, np.inf])"
   ]
  },
  {
   "cell_type": "code",
   "execution_count": 40,
   "metadata": {},
   "outputs": [
    {
     "data": {
      "text/html": [
       "<style>#sk-container-id-3 {color: black;}#sk-container-id-3 pre{padding: 0;}#sk-container-id-3 div.sk-toggleable {background-color: white;}#sk-container-id-3 label.sk-toggleable__label {cursor: pointer;display: block;width: 100%;margin-bottom: 0;padding: 0.3em;box-sizing: border-box;text-align: center;}#sk-container-id-3 label.sk-toggleable__label-arrow:before {content: \"▸\";float: left;margin-right: 0.25em;color: #696969;}#sk-container-id-3 label.sk-toggleable__label-arrow:hover:before {color: black;}#sk-container-id-3 div.sk-estimator:hover label.sk-toggleable__label-arrow:before {color: black;}#sk-container-id-3 div.sk-toggleable__content {max-height: 0;max-width: 0;overflow: hidden;text-align: left;background-color: #f0f8ff;}#sk-container-id-3 div.sk-toggleable__content pre {margin: 0.2em;color: black;border-radius: 0.25em;background-color: #f0f8ff;}#sk-container-id-3 input.sk-toggleable__control:checked~div.sk-toggleable__content {max-height: 200px;max-width: 100%;overflow: auto;}#sk-container-id-3 input.sk-toggleable__control:checked~label.sk-toggleable__label-arrow:before {content: \"▾\";}#sk-container-id-3 div.sk-estimator input.sk-toggleable__control:checked~label.sk-toggleable__label {background-color: #d4ebff;}#sk-container-id-3 div.sk-label input.sk-toggleable__control:checked~label.sk-toggleable__label {background-color: #d4ebff;}#sk-container-id-3 input.sk-hidden--visually {border: 0;clip: rect(1px 1px 1px 1px);clip: rect(1px, 1px, 1px, 1px);height: 1px;margin: -1px;overflow: hidden;padding: 0;position: absolute;width: 1px;}#sk-container-id-3 div.sk-estimator {font-family: monospace;background-color: #f0f8ff;border: 1px dotted black;border-radius: 0.25em;box-sizing: border-box;margin-bottom: 0.5em;}#sk-container-id-3 div.sk-estimator:hover {background-color: #d4ebff;}#sk-container-id-3 div.sk-parallel-item::after {content: \"\";width: 100%;border-bottom: 1px solid gray;flex-grow: 1;}#sk-container-id-3 div.sk-label:hover label.sk-toggleable__label {background-color: #d4ebff;}#sk-container-id-3 div.sk-serial::before {content: \"\";position: absolute;border-left: 1px solid gray;box-sizing: border-box;top: 0;bottom: 0;left: 50%;z-index: 0;}#sk-container-id-3 div.sk-serial {display: flex;flex-direction: column;align-items: center;background-color: white;padding-right: 0.2em;padding-left: 0.2em;position: relative;}#sk-container-id-3 div.sk-item {position: relative;z-index: 1;}#sk-container-id-3 div.sk-parallel {display: flex;align-items: stretch;justify-content: center;background-color: white;position: relative;}#sk-container-id-3 div.sk-item::before, #sk-container-id-3 div.sk-parallel-item::before {content: \"\";position: absolute;border-left: 1px solid gray;box-sizing: border-box;top: 0;bottom: 0;left: 50%;z-index: -1;}#sk-container-id-3 div.sk-parallel-item {display: flex;flex-direction: column;z-index: 1;position: relative;background-color: white;}#sk-container-id-3 div.sk-parallel-item:first-child::after {align-self: flex-end;width: 50%;}#sk-container-id-3 div.sk-parallel-item:last-child::after {align-self: flex-start;width: 50%;}#sk-container-id-3 div.sk-parallel-item:only-child::after {width: 0;}#sk-container-id-3 div.sk-dashed-wrapped {border: 1px dashed gray;margin: 0 0.4em 0.5em 0.4em;box-sizing: border-box;padding-bottom: 0.4em;background-color: white;}#sk-container-id-3 div.sk-label label {font-family: monospace;font-weight: bold;display: inline-block;line-height: 1.2em;}#sk-container-id-3 div.sk-label-container {text-align: center;}#sk-container-id-3 div.sk-container {/* jupyter's `normalize.less` sets `[hidden] { display: none; }` but bootstrap.min.css set `[hidden] { display: none !important; }` so we also need the `!important` here to be able to override the default hidden behavior on the sphinx rendered scikit-learn.org. See: https://github.com/scikit-learn/scikit-learn/issues/21755 */display: inline-block !important;position: relative;}#sk-container-id-3 div.sk-text-repr-fallback {display: none;}</style><div id=\"sk-container-id-3\" class=\"sk-top-container\"><div class=\"sk-text-repr-fallback\"><pre>FrequencyEncoder(bins=[9, 650, 1740, 6785, 19612, 271120, inf],\n",
       "                 column=&#x27;Vehicle_Type&#x27;)</pre><b>In a Jupyter environment, please rerun this cell to show the HTML representation or trust the notebook. <br />On GitHub, the HTML representation is unable to render, please try loading this page with nbviewer.org.</b></div><div class=\"sk-container\" hidden><div class=\"sk-item\"><div class=\"sk-estimator sk-toggleable\"><input class=\"sk-toggleable__control sk-hidden--visually\" id=\"sk-estimator-id-3\" type=\"checkbox\" checked><label for=\"sk-estimator-id-3\" class=\"sk-toggleable__label sk-toggleable__label-arrow\">FrequencyEncoder</label><div class=\"sk-toggleable__content\"><pre>FrequencyEncoder(bins=[9, 650, 1740, 6785, 19612, 271120, inf],\n",
       "                 column=&#x27;Vehicle_Type&#x27;)</pre></div></div></div></div></div>"
      ],
      "text/plain": [
       "FrequencyEncoder(bins=[9, 650, 1740, 6785, 19612, 271120, inf],\n",
       "                 column='Vehicle_Type')"
      ]
     },
     "execution_count": 40,
     "metadata": {},
     "output_type": "execute_result"
    }
   ],
   "source": [
    "fe.fit(X=road_safety_dataset.X)"
   ]
  },
  {
   "cell_type": "code",
   "execution_count": 41,
   "metadata": {},
   "outputs": [
    {
     "data": {
      "text/plain": [
       "0         [19612.0, 271120.0)\n",
       "1             [271120.0, inf)\n",
       "2             [271120.0, inf)\n",
       "3             [271120.0, inf)\n",
       "4         [19612.0, 271120.0)\n",
       "                 ...         \n",
       "363238        [271120.0, inf)\n",
       "363239        [271120.0, inf)\n",
       "363240        [271120.0, inf)\n",
       "363241        [271120.0, inf)\n",
       "363242        [271120.0, inf)\n",
       "Name: Vehicle_Type, Length: 363243, dtype: category\n",
       "Categories (6, interval[float64, left]): [[9.0, 650.0) < [650.0, 1740.0) < [1740.0, 6785.0) < [6785.0, 19612.0) < [19612.0, 271120.0) < [271120.0, inf)]"
      ]
     },
     "execution_count": 41,
     "metadata": {},
     "output_type": "execute_result"
    }
   ],
   "source": [
    "fe.transform(road_safety_dataset.X)"
   ]
  },
  {
   "cell_type": "code",
   "execution_count": 31,
   "metadata": {},
   "outputs": [
    {
     "data": {
      "text/plain": [
       "0         [19612.0, 271120.0)\n",
       "1             [271120.0, inf)\n",
       "2             [271120.0, inf)\n",
       "3             [271120.0, inf)\n",
       "4         [19612.0, 271120.0)\n",
       "                 ...         \n",
       "363238        [271120.0, inf)\n",
       "363239        [271120.0, inf)\n",
       "363240        [271120.0, inf)\n",
       "363241        [271120.0, inf)\n",
       "363242        [271120.0, inf)\n",
       "Name: Vehicle_Type, Length: 363243, dtype: category\n",
       "Categories (6, interval[float64, left]): [[9.0, 650.0) < [650.0, 1740.0) < [1740.0, 6785.0) < [6785.0, 19612.0) < [19612.0, 271120.0) < [271120.0, inf)]"
      ]
     },
     "execution_count": 31,
     "metadata": {},
     "output_type": "execute_result"
    }
   ],
   "source": [
    "fe.transform(employee_salaries.X)"
   ]
  },
  {
   "cell_type": "code",
   "execution_count": 42,
   "metadata": {},
   "outputs": [
    {
     "data": {
      "text/plain": [
       "Vehicle_Type\n",
       "[271120.0, inf)        271120\n",
       "[6785.0, 19612.0)       40251\n",
       "[19612.0, 271120.0)     39893\n",
       "[1740.0, 6785.0)         8896\n",
       "[650.0, 1740.0)          2346\n",
       "[9.0, 650.0)              675\n",
       "Name: count, dtype: int64"
      ]
     },
     "execution_count": 42,
     "metadata": {},
     "output_type": "execute_result"
    }
   ],
   "source": [
    "fe.transform(road_safety_dataset.X).value_counts()"
   ]
  },
  {
   "cell_type": "markdown",
   "metadata": {},
   "source": [
    "Voila, now you have values encoded according to chosen ranges basing on frequencies.\n",
    "Soon we will have automatic way to compute this basing on the quantiles. "
   ]
  },
  {
   "cell_type": "code",
   "execution_count": 43,
   "metadata": {},
   "outputs": [
    {
     "data": {
      "text/plain": [
       "<Axes: xlabel='Vehicle_Type'>"
      ]
     },
     "execution_count": 43,
     "metadata": {},
     "output_type": "execute_result"
    },
    {
     "data": {
      "image/png": "[encoded data removed]",
      "text/plain": [
       "<Figure size 640x480 with 1 Axes>"
      ]
     },
     "metadata": {},
     "output_type": "display_data"
    }
   ],
   "source": [
    "fe.transform(road_safety_dataset.X).value_counts().sort_values().plot(kind=\"bar\")"
   ]
  },
  {
   "cell_type": "markdown",
   "metadata": {},
   "source": [
    "next: one-hot encoding and clustering"
   ]
  },
  {
   "cell_type": "markdown",
   "metadata": {},
   "source": []
  }
 ],
 "metadata": {
  "kernelspec": {
   "display_name": "venv2",
   "language": "python",
   "name": "python3"
  },
  "language_info": {
   "codemirror_mode": {
    "name": "ipython",
    "version": 3
   },
   "file_extension": ".py",
   "mimetype": "text/x-python",
   "name": "python",
   "nbconvert_exporter": "python",
   "pygments_lexer": "ipython3",
   "version": "3.11.4"
  },
  "orig_nbformat": 4
 },
 "nbformat": 4,
 "nbformat_minor": 2
}
